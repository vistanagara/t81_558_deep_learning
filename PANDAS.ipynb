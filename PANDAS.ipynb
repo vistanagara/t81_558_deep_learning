{
  "nbformat": 4,
  "nbformat_minor": 0,
  "metadata": {
    "colab": {
      "name": "PANDAS",
      "provenance": [],
      "authorship_tag": "ABX9TyMJcHGNQ9aMmCAfYjT8CXM8",
      "include_colab_link": true
    },
    "kernelspec": {
      "name": "python3",
      "display_name": "Python 3"
    },
    "language_info": {
      "name": "python"
    }
  },
  "cells": [
    {
      "cell_type": "markdown",
      "metadata": {
        "id": "view-in-github",
        "colab_type": "text"
      },
      "source": [
        "<a href=\"https://colab.research.google.com/github/vistanagara/t81_558_deep_learning/blob/master/PANDAS.ipynb\" target=\"_parent\"><img src=\"https://colab.research.google.com/assets/colab-badge.svg\" alt=\"Open In Colab\"/></a>"
      ]
    },
    {
      "cell_type": "markdown",
      "metadata": {
        "id": "TUqQoiTZe9Sa"
      },
      "source": [
        "# **Membaca file dengan menggunakan pandas**\n",
        "Sebagai salah satu library untuk melakukan proses awal dari analisis data, pandas juga memiliki kemampuan untuk membaca berbagai macam jenis file. Format yang bisa dibaca oleh pandas ada berbagai macam, antara lain .txt, .csv, .tsv, dan lainnya. Pandas tidak hanya bisa membaca file saja, namun juga bisa merubah data dari file menjadi bentuk dataframe yang akhirnya nanti bisa diakses, diagregasi dan diolah."
      ]
    },
    {
      "cell_type": "code",
      "metadata": {
        "colab": {
          "base_uri": "https://localhost:8080/"
        },
        "id": "2gOEQdGafDBX",
        "outputId": "db0948d4-aac0-4c47-8dc0-242f0c35b9a0"
      },
      "source": [
        "import pandas as pd\n",
        "\n",
        "csv_data = pd.read_csv(\"https://storage.googleapis.com/dqlab-dataset/shopping_data.csv\")\n",
        "\n",
        "print(csv_data)"
      ],
      "execution_count": 37,
      "outputs": [
        {
          "output_type": "stream",
          "text": [
            "     CustomerID   Genre  Age  Annual Income (k$)  Spending Score (1-100)\n",
            "0             1    Male   19                  15                      39\n",
            "1             2    Male   21                  15                      81\n",
            "2             3  Female   20                  16                       6\n",
            "3             4  Female   23                  16                      77\n",
            "4             5  Female   31                  17                      40\n",
            "..          ...     ...  ...                 ...                     ...\n",
            "195         196  Female   35                 120                      79\n",
            "196         197  Female   45                 126                      28\n",
            "197         198    Male   32                 126                      74\n",
            "198         199    Male   32                 137                      18\n",
            "199         200    Male   30                 137                      83\n",
            "\n",
            "[200 rows x 5 columns]\n"
          ],
          "name": "stdout"
        }
      ]
    },
    {
      "cell_type": "markdown",
      "metadata": {
        "id": "hH6WC9wMfMAs"
      },
      "source": [
        "# **Membaca file dengan menggunakan head()**\n",
        "Pada suatu kasus, data yang kita baca cukup banyak atau loading yang lama. Untuk memastikan data kita terbaca dengan baik dan bisa menampilkan data sebagian untuk ditampilkan secara benar, kita bisa memakai fungsi head()."
      ]
    },
    {
      "cell_type": "code",
      "metadata": {
        "colab": {
          "base_uri": "https://localhost:8080/"
        },
        "id": "LaSzLAuafVHf",
        "outputId": "857b1ae8-97cd-4e74-b176-bc1cbf5673ef"
      },
      "source": [
        "import pandas as pd\n",
        "\n",
        "csv_data = pd.read_csv(\"https://storage.googleapis.com/dqlab-dataset/shopping_data.csv\")\n",
        "\n",
        "print(csv_data.head())"
      ],
      "execution_count": 38,
      "outputs": [
        {
          "output_type": "stream",
          "text": [
            "   CustomerID   Genre  Age  Annual Income (k$)  Spending Score (1-100)\n",
            "0           1    Male   19                  15                      39\n",
            "1           2    Male   21                  15                      81\n",
            "2           3  Female   20                  16                       6\n",
            "3           4  Female   23                  16                      77\n",
            "4           5  Female   31                  17                      40\n"
          ],
          "name": "stdout"
        }
      ]
    },
    {
      "cell_type": "markdown",
      "metadata": {
        "id": "0ufPE865fj29"
      },
      "source": [
        "# **Melakukan akses data kolom**\n",
        "Dalam suatu analisis data ada kalanya kita hanya butuh melakukan akses beberapa data saja dan tidak perlu harus menampilkan semua data. Pada pandas kita bisa melakukan akses dalam berbagai kebutuhan. Mulai dari hanya akses kolom tertentu ataupun baris tertentu. Pada sesi kali ini kita akan mencoba untuk melakukan akses beberapa kolom tertentu pada suatu dataset.\n",
        "\n",
        "Pertama yang harus dilakukan untuk melakukan akses kolom adalah mengetahui nama-nama kolom yang ada. Coba ketikkan kode di bawah ini untuk melihat nama kolom yang ada."
      ]
    },
    {
      "cell_type": "code",
      "metadata": {
        "colab": {
          "base_uri": "https://localhost:8080/"
        },
        "id": "_AeM4W2zf5aC",
        "outputId": "9fc881ad-6c16-476d-d511-c3abbe6860b5"
      },
      "source": [
        "import pandas as pd\n",
        "\n",
        "csv_data = pd.read_csv(\"https://storage.googleapis.com/dqlab-dataset/shopping_data.csv\")\n",
        "\n",
        "print(csv_data.columns)"
      ],
      "execution_count": 40,
      "outputs": [
        {
          "output_type": "stream",
          "text": [
            "Index(['CustomerID', 'Genre', 'Age', 'Annual Income (k$)',\n",
            "       'Spending Score (1-100)'],\n",
            "      dtype='object')\n"
          ],
          "name": "stdout"
        }
      ]
    },
    {
      "cell_type": "code",
      "metadata": {
        "colab": {
          "base_uri": "https://localhost:8080/"
        },
        "id": "wr75ERPMfuRC",
        "outputId": "d8315f12-b54e-4c25-9111-887acc4718a2"
      },
      "source": [
        "print(csv_data['Age'])"
      ],
      "execution_count": 41,
      "outputs": [
        {
          "output_type": "stream",
          "text": [
            "0      19\n",
            "1      21\n",
            "2      20\n",
            "3      23\n",
            "4      31\n",
            "       ..\n",
            "195    35\n",
            "196    45\n",
            "197    32\n",
            "198    32\n",
            "199    30\n",
            "Name: Age, Length: 200, dtype: int64\n"
          ],
          "name": "stdout"
        }
      ]
    },
    {
      "cell_type": "markdown",
      "metadata": {
        "id": "oPNrzFodgJNt"
      },
      "source": [
        "# **Melakukan akses data melalui baris**\n",
        "Selain melakukan akses data melalui kolom, dengan menggunakan pandas juga bisa melakukan akses dengan menggunakan baris. Berbeda dengan akses melalui kolom, fungsi untuk menampilkan data dari suatu baris adalah fungsi .iloc[i] dimana [i] menunjukan urutan baris yang akan ditampilkan yang dimana indexnya diawali dari 0."
      ]
    },
    {
      "cell_type": "code",
      "metadata": {
        "colab": {
          "base_uri": "https://localhost:8080/"
        },
        "id": "2v3-rVocgLAn",
        "outputId": "4dc6eb45-a6a3-4229-82a3-c60e3ea31489"
      },
      "source": [
        "import pandas as pd\n",
        "\n",
        "csv_data = pd.read_csv(\"https://storage.googleapis.com/dqlab-dataset/shopping_data.csv\")\n",
        "\n",
        "print(csv_data.iloc[5])"
      ],
      "execution_count": 42,
      "outputs": [
        {
          "output_type": "stream",
          "text": [
            "CustomerID                     6\n",
            "Genre                     Female\n",
            "Age                           22\n",
            "Annual Income (k$)            17\n",
            "Spending Score (1-100)        76\n",
            "Name: 5, dtype: object\n"
          ],
          "name": "stdout"
        }
      ]
    },
    {
      "cell_type": "markdown",
      "metadata": {
        "id": "pqEa5JQ2gePP"
      },
      "source": [
        "# **Menampilkan suatu data dari baris dan kolom tertentu**\n",
        "Tidak hanya dengan menentukan dari kolom dan baris, dengan menggunakan pandas kita juga bisa memanggil suatu data dari suatu baris dan kolom tertentu dalam satu waktu."
      ]
    },
    {
      "cell_type": "code",
      "metadata": {
        "colab": {
          "base_uri": "https://localhost:8080/"
        },
        "id": "3yKIfYKVggy_",
        "outputId": "b271a136-fa2c-41f8-f33c-09517925ec15"
      },
      "source": [
        "import pandas as pd\n",
        "\n",
        "csv_data = pd.read_csv(\"https://storage.googleapis.com/dqlab-dataset/shopping_data.csv\")\n",
        "\n",
        "print(csv_data['Age'].iloc[1])\n",
        "\n",
        "print(\"Cuplikan Dataset:\")\n",
        "\n",
        "print(csv_data.head())"
      ],
      "execution_count": 43,
      "outputs": [
        {
          "output_type": "stream",
          "text": [
            "21\n",
            "Cuplikan Dataset:\n",
            "   CustomerID   Genre  Age  Annual Income (k$)  Spending Score (1-100)\n",
            "0           1    Male   19                  15                      39\n",
            "1           2    Male   21                  15                      81\n",
            "2           3  Female   20                  16                       6\n",
            "3           4  Female   23                  16                      77\n",
            "4           5  Female   31                  17                      40\n"
          ],
          "name": "stdout"
        }
      ]
    },
    {
      "cell_type": "markdown",
      "metadata": {
        "id": "9_1T2cYJguGB"
      },
      "source": [
        "# **Menampilkan data dalam range tertentu**\n",
        "Setelah menampilkan suatu kelompok data, bagaimana jika ingin menampilkan data dari baris ke 5 sampai ke 20 dari suatu dataset? Untuk mengantisipasi hal tersebut, pandas juga bisa menampilkan data dalam range tertentu, baik range untuk baris saja, kolom saja, dan range untuk baris dan kolom."
      ]
    },
    {
      "cell_type": "code",
      "metadata": {
        "colab": {
          "base_uri": "https://localhost:8080/"
        },
        "id": "dSFh0fFNg20m",
        "outputId": "9265300c-717a-4ada-9bae-24a2da12d26f"
      },
      "source": [
        "import pandas as pd\n",
        "\n",
        "csv_data = pd.read_csv(\"https://storage.googleapis.com/dqlab-dataset/shopping_data.csv\")\n",
        "\n",
        "print(\"Menampilkan data ke 5 sampai kurang dari 10 dalam satu baris:\")\n",
        "\n",
        "print(csv_data.iloc[5:10])"
      ],
      "execution_count": 44,
      "outputs": [
        {
          "output_type": "stream",
          "text": [
            "Menampilkan data ke 5 sampai kurang dari 10 dalam satu baris:\n",
            "   CustomerID   Genre  Age  Annual Income (k$)  Spending Score (1-100)\n",
            "5           6  Female   22                  17                      76\n",
            "6           7  Female   35                  18                       6\n",
            "7           8  Female   23                  18                      94\n",
            "8           9    Male   64                  19                       3\n",
            "9          10  Female   30                  19                      72\n"
          ],
          "name": "stdout"
        }
      ]
    },
    {
      "cell_type": "markdown",
      "metadata": {
        "id": "jz_n3HSlU2Fc"
      },
      "source": [
        "# **Menampilkan informasi statistik dengan Numpy**"
      ]
    },
    {
      "cell_type": "code",
      "metadata": {
        "colab": {
          "base_uri": "https://localhost:8080/"
        },
        "id": "tst1NBSnVEiF",
        "outputId": "02c7b3db-1775-4c6a-fedb-e07f25f6992f"
      },
      "source": [
        "import pandas as pd\n",
        "\n",
        "csv_data = pd.read_csv(\"https://storage.googleapis.com/dqlab-dataset/shopping_data_missingvalue.csv\")\n",
        "\n",
        "# print(csv_data)\n",
        "print(csv_data.describe(include='all'))"
      ],
      "execution_count": 26,
      "outputs": [
        {
          "output_type": "stream",
          "text": [
            "        CustomerID   Genre  ...  Annual Income (k$)  Spending Score (1-100)\n",
            "count   200.000000     200  ...          198.000000              198.000000\n",
            "unique         NaN       2  ...                 NaN                     NaN\n",
            "top            NaN  Female  ...                 NaN                     NaN\n",
            "freq           NaN     112  ...                 NaN                     NaN\n",
            "mean    100.500000     NaN  ...           61.005051               50.489899\n",
            "std      57.879185     NaN  ...           26.017857               25.723587\n",
            "min       1.000000     NaN  ...           15.000000                1.000000\n",
            "25%      50.750000     NaN  ...           42.250000               35.000000\n",
            "50%     100.500000     NaN  ...           62.000000               50.000000\n",
            "75%     150.250000     NaN  ...           78.000000               73.000000\n",
            "max     200.000000     NaN  ...          137.000000               99.000000\n",
            "\n",
            "[11 rows x 5 columns]\n"
          ],
          "name": "stdout"
        }
      ]
    },
    {
      "cell_type": "code",
      "metadata": {
        "colab": {
          "base_uri": "https://localhost:8080/"
        },
        "id": "fxDQ9m_7Yk29",
        "outputId": "9a6dd320-d351-4f85-c507-3428b46933e4"
      },
      "source": [
        "print(csv_data.describe(exclude=['O']))"
      ],
      "execution_count": 25,
      "outputs": [
        {
          "output_type": "stream",
          "text": [
            "       CustomerID         Age  Annual Income (k$)  Spending Score (1-100)\n",
            "count  200.000000  199.000000          198.000000              198.000000\n",
            "mean   100.500000   38.939698           61.005051               50.489899\n",
            "std     57.879185   13.946376           26.017857               25.723587\n",
            "min      1.000000   18.000000           15.000000                1.000000\n",
            "25%     50.750000   29.000000           42.250000               35.000000\n",
            "50%    100.500000   36.000000           62.000000               50.000000\n",
            "75%    150.250000   49.000000           78.000000               73.000000\n",
            "max    200.000000   70.000000          137.000000               99.000000\n"
          ],
          "name": "stdout"
        }
      ]
    },
    {
      "cell_type": "code",
      "metadata": {
        "colab": {
          "base_uri": "https://localhost:8080/"
        },
        "id": "ofyrybVGYGDk",
        "outputId": "0762fb12-8547-46c1-c8e7-6098faf43e69"
      },
      "source": [
        "csv_data2 = pd.read_csv(\"https://storage.googleapis.com/dqlab-dataset/shopping_data.csv\")\n",
        "\n",
        "print(csv_data2.describe(include='all'))"
      ],
      "execution_count": 27,
      "outputs": [
        {
          "output_type": "stream",
          "text": [
            "        CustomerID   Genre  ...  Annual Income (k$)  Spending Score (1-100)\n",
            "count   200.000000     200  ...          200.000000              200.000000\n",
            "unique         NaN       2  ...                 NaN                     NaN\n",
            "top            NaN  Female  ...                 NaN                     NaN\n",
            "freq           NaN     112  ...                 NaN                     NaN\n",
            "mean    100.500000     NaN  ...           60.560000               50.200000\n",
            "std      57.879185     NaN  ...           26.264721               25.823522\n",
            "min       1.000000     NaN  ...           15.000000                1.000000\n",
            "25%      50.750000     NaN  ...           41.500000               34.750000\n",
            "50%     100.500000     NaN  ...           61.500000               50.000000\n",
            "75%     150.250000     NaN  ...           78.000000               73.000000\n",
            "max     200.000000     NaN  ...          137.000000               99.000000\n",
            "\n",
            "[11 rows x 5 columns]\n"
          ],
          "name": "stdout"
        }
      ]
    },
    {
      "cell_type": "markdown",
      "metadata": {
        "id": "tHYyB7B9bRUs"
      },
      "source": [
        "# **HANDLING MISSING VALUE** "
      ]
    },
    {
      "cell_type": "markdown",
      "metadata": {
        "id": "aQu0-F4sXm7o"
      },
      "source": [
        "# **Melakukan pengecekan untuk nilai NULL yang ada**"
      ]
    },
    {
      "cell_type": "code",
      "metadata": {
        "colab": {
          "base_uri": "https://localhost:8080/"
        },
        "id": "WmstDTTLXrV3",
        "outputId": "eccd2951-8d1d-467f-d836-c8c0f8b2bb88"
      },
      "source": [
        "print(csv_data.isnull().values.any())"
      ],
      "execution_count": 19,
      "outputs": [
        {
          "output_type": "stream",
          "text": [
            "True\n"
          ],
          "name": "stdout"
        }
      ]
    },
    {
      "cell_type": "code",
      "metadata": {
        "colab": {
          "base_uri": "https://localhost:8080/"
        },
        "id": "IXrMKVFXZNRl",
        "outputId": "abcc11cf-6637-42fc-8477-2a65b0085da7"
      },
      "source": [
        "print(csv_data2.isnull().values.any())"
      ],
      "execution_count": 28,
      "outputs": [
        {
          "output_type": "stream",
          "text": [
            "False\n"
          ],
          "name": "stdout"
        }
      ]
    },
    {
      "cell_type": "markdown",
      "metadata": {
        "id": "4wi0xtdcZzx_"
      },
      "source": [
        "# **Mengisi dengan Mean**\n",
        "Salah satu metode yang bisa dikatakan sebagai solusi yang umum pada kasus general data science adalah mengisi data kosong dengan menggunakan mean dari masing-masing kolom. Pertama kita harus menentukan mean dari masing-masing kolom. Pada pandas terdapat fungsi mean() untuk menentukan nilai mean dari masing-masing kolom. Mean sendiri digunakan untuk data yang memiliki sedikit sifat outlier/noisy/anomali dalam sebaran datanya maupun isinya. "
      ]
    },
    {
      "cell_type": "code",
      "metadata": {
        "colab": {
          "base_uri": "https://localhost:8080/"
        },
        "id": "OtnDcAzVarn-",
        "outputId": "56b8aee1-f291-4d68-c344-c582414c5f09"
      },
      "source": [
        "print(csv_data2.mean())\n",
        "print(\"Dataset yang masih terdapat nilai kosong ! : \")\n",
        "print(csv_data2.head(10))\n",
        "\n",
        "csv_data2=csv_data2.fillna(csv_data2.mean())"
      ],
      "execution_count": 30,
      "outputs": [
        {
          "output_type": "stream",
          "text": [
            "CustomerID                100.50\n",
            "Age                        38.85\n",
            "Annual Income (k$)         60.56\n",
            "Spending Score (1-100)     50.20\n",
            "dtype: float64\n",
            "Dataset yang masih terdapat nilai kosong ! : \n",
            "   CustomerID   Genre  Age  Annual Income (k$)  Spending Score (1-100)\n",
            "0           1    Male   19                  15                      39\n",
            "1           2    Male   21                  15                      81\n",
            "2           3  Female   20                  16                       6\n",
            "3           4  Female   23                  16                      77\n",
            "4           5  Female   31                  17                      40\n",
            "5           6  Female   22                  17                      76\n",
            "6           7  Female   35                  18                       6\n",
            "7           8  Female   23                  18                      94\n",
            "8           9    Male   64                  19                       3\n",
            "9          10  Female   30                  19                      72\n"
          ],
          "name": "stdout"
        }
      ]
    },
    {
      "cell_type": "markdown",
      "metadata": {
        "id": "RZxpdnqrbK7w"
      },
      "source": [
        "Fungsi mean sendiri berfungsi untuk menampilkan  nilai mean (rata-rata) dari setiap kolom. Nilai inilah nanti yang akan mengisi nilai kosong dari dataset yang mengalami kasus missing value. Untuk mengisi nilai yang kosong menggunakan fungsi fillna()."
      ]
    },
    {
      "cell_type": "markdown",
      "metadata": {
        "id": "5mN9HegMbjJ6"
      },
      "source": [
        "# **Mengisi dengan Median**\n",
        "Berbeda dengan mean pada sesi sebelumnya, median digunakan untuk data-data yang memiliki sifat outlier yang kuat. Kenapa median dipilih? Median merupakan nilai tengah yang artinya bukan hasil dari perhitungan yang melibatkan data outlier. Pada beberapa kasus, data outlier dianggap mengganggu dan sering dianggap noisy karena bisa mempengaruhi distribusi kelas dan mengganggu analisa pada klasterisasi (clustering)."
      ]
    },
    {
      "cell_type": "code",
      "metadata": {
        "colab": {
          "base_uri": "https://localhost:8080/"
        },
        "id": "lVbQlxRNbrML",
        "outputId": "07ae8a66-c8c0-47cf-f0ba-f900568a18ef"
      },
      "source": [
        "print(\"Dataset yang masih terdapat nilai kosong ! :\")\n",
        "print(csv_data2.head(10))\n",
        "\n",
        "csv_data=csv_data2.fillna(csv_data2.median())\n",
        "print(\"\")\n",
        "print(\"Dataset yang sudah diproses Handling Missing Values dengan Median:\")\n",
        "print(csv_data2.head(10))"
      ],
      "execution_count": 33,
      "outputs": [
        {
          "output_type": "stream",
          "text": [
            "Dataset yang masih terdapat nilai kosong ! :\n",
            "   CustomerID   Genre  Age  Annual Income (k$)  Spending Score (1-100)\n",
            "0           1    Male   19                  15                      39\n",
            "1           2    Male   21                  15                      81\n",
            "2           3  Female   20                  16                       6\n",
            "3           4  Female   23                  16                      77\n",
            "4           5  Female   31                  17                      40\n",
            "5           6  Female   22                  17                      76\n",
            "6           7  Female   35                  18                       6\n",
            "7           8  Female   23                  18                      94\n",
            "8           9    Male   64                  19                       3\n",
            "9          10  Female   30                  19                      72\n",
            "\n",
            "Dataset yang sudah diproses Handling Missing Values dengan Median:\n",
            "   CustomerID   Genre  Age  Annual Income (k$)  Spending Score (1-100)\n",
            "0           1    Male   19                  15                      39\n",
            "1           2    Male   21                  15                      81\n",
            "2           3  Female   20                  16                       6\n",
            "3           4  Female   23                  16                      77\n",
            "4           5  Female   31                  17                      40\n",
            "5           6  Female   22                  17                      76\n",
            "6           7  Female   35                  18                       6\n",
            "7           8  Female   23                  18                      94\n",
            "8           9    Male   64                  19                       3\n",
            "9          10  Female   30                  19                      72\n"
          ],
          "name": "stdout"
        }
      ]
    },
    {
      "cell_type": "markdown",
      "metadata": {
        "id": "rpSerDlydPFn"
      },
      "source": [
        "# **NORMALISASI DATA**"
      ]
    },
    {
      "cell_type": "markdown",
      "metadata": {
        "id": "9w0nPmHNd9UZ"
      },
      "source": [
        "Scikit Learn merupakan library pada python yang digunakan untuk machine learning dan data science. Salah satu library yang selalu menjadi favorit dan komunitasnya sangat kuat. Scikit-learn sendiri tidak hanya untuk analytics saja, namun juga untuk pre-processing, feature selection, dan proses analysis lainnya."
      ]
    },
    {
      "cell_type": "code",
      "metadata": {
        "colab": {
          "base_uri": "https://localhost:8080/"
        },
        "id": "jGx9qyY0d_JC",
        "outputId": "f6360509-ad67-4e96-82eb-df1968c2c77f"
      },
      "source": [
        "import pandas as pd\n",
        "import numpy as np\n",
        "from sklearn import preprocessing\n",
        "\n",
        "csv_data3 = pd.read_csv(\"https://storage.googleapis.com/dqlab-dataset/shopping_data.csv\")\n",
        "array = csv_data3.values\t\t\n",
        "\n",
        "X = array[:,2:5] #memisahkan fitur dari dataset. \n",
        "Y = array[:,0:1]  #memisahkan class dari dataset\n",
        "\n",
        "dataset=pd.DataFrame({'Customer ID':array[:,0],'Gender':array[:,1],'Age':array[:,2],'Income':array[:,3],'Spending Score':array[:,4]})\n",
        "print(\"dataset sebelum dinormalisasi :\")\n",
        "print(dataset.head(10))\n",
        "\n",
        "min_max_scaler = preprocessing.MinMaxScaler(feature_range=(0,1)) #inisialisasi normalisasi MinMax\n",
        "data = min_max_scaler.fit_transform(X) #transformasi MinMax untuk fitur\n",
        "dataset = pd.DataFrame({'Age':data[:,0],'Income':data[:,1],'Spending Score':data[:,2],'Customer ID':array[:,0],'Gender':array[:,1]})\n",
        "\n",
        "print(\"dataset setelah dinormalisasi :\")\n",
        "print(dataset.head(10))"
      ],
      "execution_count": 35,
      "outputs": [
        {
          "output_type": "stream",
          "text": [
            "dataset sebelum dinormalisasi :\n",
            "  Customer ID  Gender Age Income Spending Score\n",
            "0           1    Male  19     15             39\n",
            "1           2    Male  21     15             81\n",
            "2           3  Female  20     16              6\n",
            "3           4  Female  23     16             77\n",
            "4           5  Female  31     17             40\n",
            "5           6  Female  22     17             76\n",
            "6           7  Female  35     18              6\n",
            "7           8  Female  23     18             94\n",
            "8           9    Male  64     19              3\n",
            "9          10  Female  30     19             72\n",
            "dataset setelah dinormalisasi :\n",
            "        Age    Income  Spending Score Customer ID  Gender\n",
            "0  0.019231  0.000000        0.387755           1    Male\n",
            "1  0.057692  0.000000        0.816327           2    Male\n",
            "2  0.038462  0.008197        0.051020           3  Female\n",
            "3  0.096154  0.008197        0.775510           4  Female\n",
            "4  0.250000  0.016393        0.397959           5  Female\n",
            "5  0.076923  0.016393        0.765306           6  Female\n",
            "6  0.326923  0.024590        0.051020           7  Female\n",
            "7  0.096154  0.024590        0.948980           8  Female\n",
            "8  0.884615  0.032787        0.020408           9    Male\n",
            "9  0.230769  0.032787        0.724490          10  Female\n"
          ],
          "name": "stdout"
        }
      ]
    },
    {
      "cell_type": "markdown",
      "metadata": {
        "id": "fDO9clmHeIJb"
      },
      "source": [
        "X merupakan matriks yang berisi fitur dataset yang akan digunakan dalam machine learning, baik untuk regresi, klasifikasi, pengklusteran, atau normalisasi\n",
        "\n",
        "Pada kasus kita, X berisi fitur-fitur yang digunakan untuk dinormalisasi dengan teknik min-max scaler"
      ]
    }
  ]
}